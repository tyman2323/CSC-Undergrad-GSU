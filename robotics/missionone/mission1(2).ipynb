{
 "cells": [
  {
   "cell_type": "code",
   "execution_count": 9,
   "metadata": {},
   "outputs": [
    {
     "name": "stdout",
     "output_type": "stream",
     "text": [
      "240.375\n",
      "239.125\n",
      "240.75\n",
      "241.5\n"
     ]
    }
   ],
   "source": [
    "import easygopigo3 as easy\n",
    "import time\n",
    "import math\n",
    "from di_sensors import easy_inertial_measurement_unit\n",
    "\n",
    "my_gopigo = easy.EasyGoPiGo3()\n",
    "#Direction we want to go\n",
    "dHeading = 238.9\n",
    "\n",
    "imu = easy_inertial_measurement_unit.EasyIMUSensor(port='AD1')\n",
    "\n",
    "my_gopigo.set_speed(250)\n",
    "\n",
    "#go 100 cm, check if the robot is heading in the correct direction\n",
    "#Correct course if not, then repeat for the full 5m distance\n",
    "for x in range(4):\n",
    "    my_gopigo.drive_cm(100)\n",
    "    heading,roll,pitch = imu.safe_read_euler()\n",
    "    print(heading)\n",
    "    if(heading <= (math.floor(dHeading))):\n",
    "        my_gopigo.turn_degrees((heading - dHeading))\n",
    "    elif(heading > (math.ceil(dHeading))): \n",
    "        my_gopigo.turn_degrees(-(heading - dHeading))\n",
    "#Increase speed so the ball will release into the goal\n",
    "my_gopigo.set_speed(1000)\n",
    "my_gopigo.drive_cm(100)\n",
    "\n",
    "    "
   ]
  },
  {
   "cell_type": "code",
   "execution_count": null,
   "metadata": {},
   "outputs": [],
   "source": []
  },
  {
   "cell_type": "code",
   "execution_count": null,
   "metadata": {},
   "outputs": [],
   "source": []
  }
 ],
 "metadata": {
  "kernelspec": {
   "display_name": "Python 3 (ipykernel)",
   "language": "python",
   "name": "python3"
  },
  "language_info": {
   "codemirror_mode": {
    "name": "ipython",
    "version": 3
   },
   "file_extension": ".py",
   "mimetype": "text/x-python",
   "name": "python",
   "nbconvert_exporter": "python",
   "pygments_lexer": "ipython3",
   "version": "3.11.5"
  }
 },
 "nbformat": 4,
 "nbformat_minor": 2
}
