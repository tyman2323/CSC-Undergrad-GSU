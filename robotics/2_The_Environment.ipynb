{
 "cells": [
  {
   "cell_type": "markdown",
   "metadata": {
    "id": "65lJdSdUUbQu"
   },
   "source": [
    "# About the JupyterLab Environment\n",
    "\n",
    "## Introduction"
   ]
  },
  {
   "cell_type": "markdown",
   "metadata": {
    "id": "6qPGfBh2UbQv"
   },
   "source": [
    "This environment you're in is probably not what you expected. It's called JupyterLab and we are very thankfull to the team who created it.\n",
    "\n",
    "![title](/.lessons_python/img/JupyterLab.png)\n",
    "![title](/.lessons_python/img/GPG3_FullServoDistanceGoogly_1-1-300x300.jpg)\n",
    "\n",
    "It allows you to code interactively which is awesome when collecting data. Each project is in a notebook ( extension is **.ipynb** instead of a **.py** file ) but rest assured, it's still Python!\n"
   ]
  },
  {
   "cell_type": "markdown",
   "metadata": {
    "id": "o6TPJFzqUbQw"
   },
   "source": [
    "## About the Kernel"
   ]
  },
  {
   "cell_type": "markdown",
   "metadata": {
    "id": "_eZW7xrlUbQw"
   },
   "source": [
    "The magic behind the scene happens with the *kernel*. The only kernel installed on DexterOS is Python3.  You can see it at the top right corner: \n",
    "\n",
    "![title](/.lessons_python/img/kernel.png)\n",
    "\n",
    "The empty circle indicates the kernel is not doing anything. It will change to a full circle if the kernel is busy.  Should you ever write an infinite loop or deal with data that's too big, this will be your first sign of trouble. \n",
    "\n",
    "The following is an infinite loop. If you run it, you will see the kernel get busy and not come back to an idle state. \n",
    "\n",
    "![title](/.lessons_python/img/busy_kernel.png)\n",
    "\n",
    "\n",
    "Press the ![title](/.lessons_python/img/stop.png) icon to interrupt the kernel and get out of the infinite loop."
   ]
  },
  {
   "cell_type": "code",
   "execution_count": null,
   "metadata": {
    "id": "1cYZz9ECUbQx"
   },
   "outputs": [],
   "source": [
    "from time import sleep\n",
    "\n",
    "while True:\n",
    "    sleep(1)"
   ]
  },
  {
   "cell_type": "markdown",
   "metadata": {
    "id": "D_wj8ZRlUbQz"
   },
   "source": [
    "An error shows up when you interrupt the kernel but it's nothing to worry about.\n",
    "\n",
    "You can also reset a notebook to its pristine condition by choosing \n",
    "*Kernel/Restart Kernel And Clear All Outputs...*\n",
    "from the Jupyterlab menu\n",
    "\n",
    "![title](/.lessons_python/img/restart_and_clear.png)\n",
    "\n",
    "This brings the notebook to its original state as if you had never run the code in it.\n"
   ]
  },
  {
   "cell_type": "markdown",
   "metadata": {
    "id": "J_FDjQncUbQ0"
   },
   "source": [
    "Now it's possible to kill the kernel but still have a robot that keeps on going forever. Take a look at the following code.  (Make sure your GoPiGo has room to spin and won't fall off a table)"
   ]
  },
  {
   "cell_type": "code",
   "execution_count": null,
   "metadata": {
    "id": "EeTl3bmYUbQ0"
   },
   "outputs": [],
   "source": [
    "import easygopigo3 as easy\n",
    "g = easy.EasyGoPiGo3()\n",
    "while True:\n",
    "    g.right()"
   ]
  },
  {
   "cell_type": "markdown",
   "metadata": {
    "id": "Nt2HbgRnUbQ2"
   },
   "source": [
    "If you interrupt the kernel to stop the above code, the GoPiGo keeps on spinning because it needs to be told to stop. This is why there's a big stop sign at the top.\n",
    "\n",
    "![title](/.lessons_python/img/stop_robot.png) This icon stops the robot but not the kernel\n",
    "\n",
    "![title](/.lessons_python/img/stop.png) This icon stops the kernel but not the robot"
   ]
  },
  {
   "cell_type": "markdown",
   "metadata": {
    "id": "hbqSeyJJUbQ3"
   },
   "source": [
    "## Autocompletion Code"
   ]
  },
  {
   "cell_type": "markdown",
   "metadata": {
    "id": "W0LLVO0rUbQ3"
   },
   "source": [
    "There are two key combinations for auto-completion code:\n",
    "* `Tab`\n",
    "* `Shift-Tab`\n",
    "\n",
    "The `Tab` is used where one wants to see suggestions for classes in a module, functions, variables, etc, like in the following example.\n",
    "\n",
    "<img src=\"/.lessons_python/img/tab_completion.png\" width=\"500\">\n",
    "\n",
    "---------\n",
    "\n",
    "The `Shift-Tab` combination is used for showing the parameters of functions, methods and classes. The following screenshot proves the point.\n",
    "\n",
    "\n",
    "<img src=\"/.lessons_python/img/shifttab_completion.png\" width=\"600\">\n",
    "\n",
    "---------"
   ]
  }
 ],
 "metadata": {
  "colab": {
   "name": "2_The_Environment.ipynb",
   "provenance": []
  },
  "kernelspec": {
   "display_name": "Python 3 (ipykernel)",
   "language": "python",
   "name": "python3"
  },
  "language_info": {
   "codemirror_mode": {
    "name": "ipython",
    "version": 3
   },
   "file_extension": ".py",
   "mimetype": "text/x-python",
   "name": "python",
   "nbconvert_exporter": "python",
   "pygments_lexer": "ipython3",
   "version": "3.11.5"
  }
 },
 "nbformat": 4,
 "nbformat_minor": 1
}
