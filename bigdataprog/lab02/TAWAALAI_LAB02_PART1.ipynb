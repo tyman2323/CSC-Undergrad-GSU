{
 "cells": [
  {
   "cell_type": "code",
   "execution_count": 1,
   "id": "79c8a0e4",
   "metadata": {},
   "outputs": [
    {
     "name": "stdout",
     "output_type": "stream",
     "text": [
      "Hello World!\n"
     ]
    }
   ],
   "source": [
    "print('Hello World!')"
   ]
  },
  {
   "cell_type": "code",
   "execution_count": 4,
   "id": "8ab1eb98",
   "metadata": {},
   "outputs": [],
   "source": [
    "import time\n",
    "time.sleep(3)"
   ]
  },
  {
   "cell_type": "code",
   "execution_count": 6,
   "id": "f8fc4e3e",
   "metadata": {},
   "outputs": [
    {
     "data": {
      "text/plain": [
       "'Hello, Ayman Tawaalai!'"
      ]
     },
     "execution_count": 6,
     "metadata": {},
     "output_type": "execute_result"
    }
   ],
   "source": [
    "def say_hello(name):\n",
    "    return 'Hello, {}!'.format(name)\n",
    "say_hello('Ayman Tawaalai')"
   ]
  },
  {
   "cell_type": "code",
   "execution_count": 7,
   "id": "5b7764b2",
   "metadata": {},
   "outputs": [],
   "source": [
    "def say_hello(name):\n",
    "    return 'Hello, {}!'.format(name)"
   ]
  },
  {
   "cell_type": "code",
   "execution_count": 9,
   "id": "1eede5e2",
   "metadata": {},
   "outputs": [
    {
     "data": {
      "text/plain": [
       "'Hello, Ayman Tawaalai!'"
      ]
     },
     "execution_count": 9,
     "metadata": {},
     "output_type": "execute_result"
    }
   ],
   "source": [
    "say_hello('Ayman Tawaalai')"
   ]
  },
  {
   "cell_type": "markdown",
   "id": "ca53df84",
   "metadata": {},
   "source": [
    "# This is a level 1 heading\n",
    "## This is a level 2 heading\n",
    "This is some plain text that forms a paragraph. Add emphasis via **bold** and __bold__, or *italic* and _italic_.\n",
    "Paragraphs must be separated by an empty line.\n",
    "* Sometimes we want to include lists.\n",
    "* Which can be bulleted using asterisks.\n",
    "1. Lists can also be numbered.\n",
    "2. If we want an ordered list, including sub items (indented items).\n",
    "- An Indented item\n",
    "- Another Indented item\n",
    "[We can include hyperlinks](https://www.gsu.edu)\n",
    "Creating inline code text uses single backticks: `say_hello('CSC4760')`, and code text blocks use triple backticks:\n",
    "```\n",
    "say_hello('CSC4760')\n",
    "```\n",
    "Or you can just indent by 4 spaces:\n",
    "say_hello('CSC4760')\n",
    "And finally, adding images is easy using our good buddy, HTML: <img src=\"https://www.gsu.edu/wp-content/themes/gsu-flex-\n",
    "2/images/logo.png\" alt=\"Geogia State University Logo\">\n"
   ]
  },
  {
   "cell_type": "code",
   "execution_count": 10,
   "id": "46ec80f3",
   "metadata": {},
   "outputs": [
    {
     "data": {
      "text/plain": [
       "729000000"
      ]
     },
     "execution_count": 10,
     "metadata": {},
     "output_type": "execute_result"
    }
   ],
   "source": [
    "import numpy as np\n",
    "def cube(x):\n",
    "    return x * x * x\n",
    "cube(900)"
   ]
  },
  {
   "cell_type": "code",
   "execution_count": 11,
   "id": "fa664f98",
   "metadata": {},
   "outputs": [
    {
     "name": "stdout",
     "output_type": "stream",
     "text": [
      "Hello, Ayman Tawaalai! 92 cubed is 778688\n"
     ]
    }
   ],
   "source": [
    "my_name = 'Ayman Tawaalai'\n",
    "x = np.random.randint(1, 100)\n",
    "y = cube(x)\n",
    "print('Hello, {}! {} cubed is {}'.format(my_name, x, y))"
   ]
  }
 ],
 "metadata": {
  "kernelspec": {
   "display_name": "Python 3 (ipykernel)",
   "language": "python",
   "name": "python3"
  },
  "language_info": {
   "codemirror_mode": {
    "name": "ipython",
    "version": 3
   },
   "file_extension": ".py",
   "mimetype": "text/x-python",
   "name": "python",
   "nbconvert_exporter": "python",
   "pygments_lexer": "ipython3",
   "version": "3.11.5"
  }
 },
 "nbformat": 4,
 "nbformat_minor": 5
}
