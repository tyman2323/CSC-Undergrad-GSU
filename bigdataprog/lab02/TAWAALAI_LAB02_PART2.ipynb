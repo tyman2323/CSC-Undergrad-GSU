{
 "cells": [
  {
   "cell_type": "code",
   "execution_count": 1,
   "id": "995a8b6b",
   "metadata": {},
   "outputs": [],
   "source": [
    "%matplotlib inline\n",
    "import pandas as pd\n",
    "import matplotlib.pyplot as plt\n",
    "import seaborn as sns\n",
    "sns.set(style=\"darkgrid\")"
   ]
  },
  {
   "cell_type": "code",
   "execution_count": 5,
   "id": "55911147",
   "metadata": {},
   "outputs": [],
   "source": [
    "df = pd.read_csv('murder.csv')"
   ]
  },
  {
   "cell_type": "code",
   "execution_count": 6,
   "id": "e241fd50",
   "metadata": {},
   "outputs": [
    {
     "data": {
      "text/html": [
       "<div>\n",
       "<style scoped>\n",
       "    .dataframe tbody tr th:only-of-type {\n",
       "        vertical-align: middle;\n",
       "    }\n",
       "\n",
       "    .dataframe tbody tr th {\n",
       "        vertical-align: top;\n",
       "    }\n",
       "\n",
       "    .dataframe thead th {\n",
       "        text-align: right;\n",
       "    }\n",
       "</style>\n",
       "<table border=\"1\" class=\"dataframe\">\n",
       "  <thead>\n",
       "    <tr style=\"text-align: right;\">\n",
       "      <th></th>\n",
       "      <th>intentional_homicide_id</th>\n",
       "      <th>country_name</th>\n",
       "      <th>year</th>\n",
       "      <th>homicide_count</th>\n",
       "      <th>homicide_rate</th>\n",
       "      <th>homicide_source</th>\n",
       "      <th>homicide_source_type</th>\n",
       "    </tr>\n",
       "  </thead>\n",
       "  <tbody>\n",
       "    <tr>\n",
       "      <th>0</th>\n",
       "      <td>1</td>\n",
       "      <td>Afghanistan</td>\n",
       "      <td>2008</td>\n",
       "      <td>712</td>\n",
       "      <td>2.4</td>\n",
       "      <td>WHO</td>\n",
       "      <td>PH</td>\n",
       "    </tr>\n",
       "    <tr>\n",
       "      <th>1</th>\n",
       "      <td>2</td>\n",
       "      <td>Albania</td>\n",
       "      <td>2010</td>\n",
       "      <td>127</td>\n",
       "      <td>4.0</td>\n",
       "      <td>CTS/Transmonee</td>\n",
       "      <td>CJ</td>\n",
       "    </tr>\n",
       "    <tr>\n",
       "      <th>2</th>\n",
       "      <td>3</td>\n",
       "      <td>Albania</td>\n",
       "      <td>2009</td>\n",
       "      <td>85</td>\n",
       "      <td>2.7</td>\n",
       "      <td>CTS/Transmonee</td>\n",
       "      <td>CJ</td>\n",
       "    </tr>\n",
       "    <tr>\n",
       "      <th>3</th>\n",
       "      <td>4</td>\n",
       "      <td>Albania</td>\n",
       "      <td>2008</td>\n",
       "      <td>93</td>\n",
       "      <td>2.9</td>\n",
       "      <td>CTS/Transmonee</td>\n",
       "      <td>CJ</td>\n",
       "    </tr>\n",
       "    <tr>\n",
       "      <th>4</th>\n",
       "      <td>5</td>\n",
       "      <td>Albania</td>\n",
       "      <td>2007</td>\n",
       "      <td>105</td>\n",
       "      <td>3.3</td>\n",
       "      <td>CTS/Transmonee</td>\n",
       "      <td>CJ</td>\n",
       "    </tr>\n",
       "  </tbody>\n",
       "</table>\n",
       "</div>"
      ],
      "text/plain": [
       "   intentional_homicide_id country_name  year  homicide_count  homicide_rate  \\\n",
       "0                        1  Afghanistan  2008             712            2.4   \n",
       "1                        2      Albania  2010             127            4.0   \n",
       "2                        3      Albania  2009              85            2.7   \n",
       "3                        4      Albania  2008              93            2.9   \n",
       "4                        5      Albania  2007             105            3.3   \n",
       "\n",
       "  homicide_source homicide_source_type  \n",
       "0             WHO                   PH  \n",
       "1  CTS/Transmonee                   CJ  \n",
       "2  CTS/Transmonee                   CJ  \n",
       "3  CTS/Transmonee                   CJ  \n",
       "4  CTS/Transmonee                   CJ  "
      ]
     },
     "execution_count": 6,
     "metadata": {},
     "output_type": "execute_result"
    }
   ],
   "source": [
    "df.head()"
   ]
  },
  {
   "cell_type": "code",
   "execution_count": 7,
   "id": "374c9b4e",
   "metadata": {},
   "outputs": [
    {
     "data": {
      "text/html": [
       "<div>\n",
       "<style scoped>\n",
       "    .dataframe tbody tr th:only-of-type {\n",
       "        vertical-align: middle;\n",
       "    }\n",
       "\n",
       "    .dataframe tbody tr th {\n",
       "        vertical-align: top;\n",
       "    }\n",
       "\n",
       "    .dataframe thead th {\n",
       "        text-align: right;\n",
       "    }\n",
       "</style>\n",
       "<table border=\"1\" class=\"dataframe\">\n",
       "  <thead>\n",
       "    <tr style=\"text-align: right;\">\n",
       "      <th></th>\n",
       "      <th>intentional_homicide_id</th>\n",
       "      <th>country_name</th>\n",
       "      <th>year</th>\n",
       "      <th>homicide_count</th>\n",
       "      <th>homicide_rate</th>\n",
       "      <th>homicide_source</th>\n",
       "      <th>homicide_source_type</th>\n",
       "    </tr>\n",
       "  </thead>\n",
       "  <tbody>\n",
       "    <tr>\n",
       "      <th>1714</th>\n",
       "      <td>1715</td>\n",
       "      <td>Yemen</td>\n",
       "      <td>2005</td>\n",
       "      <td>945</td>\n",
       "      <td>4.6</td>\n",
       "      <td>NSO</td>\n",
       "      <td>CJ</td>\n",
       "    </tr>\n",
       "    <tr>\n",
       "      <th>1715</th>\n",
       "      <td>1716</td>\n",
       "      <td>Yemen</td>\n",
       "      <td>2004</td>\n",
       "      <td>646</td>\n",
       "      <td>3.2</td>\n",
       "      <td>NSO</td>\n",
       "      <td>CJ</td>\n",
       "    </tr>\n",
       "    <tr>\n",
       "      <th>1716</th>\n",
       "      <td>1717</td>\n",
       "      <td>Yemen</td>\n",
       "      <td>2003</td>\n",
       "      <td>704</td>\n",
       "      <td>3.6</td>\n",
       "      <td>NSO</td>\n",
       "      <td>CJ</td>\n",
       "    </tr>\n",
       "    <tr>\n",
       "      <th>1717</th>\n",
       "      <td>1718</td>\n",
       "      <td>Zambia</td>\n",
       "      <td>2008</td>\n",
       "      <td>4710</td>\n",
       "      <td>38.0</td>\n",
       "      <td>WHO</td>\n",
       "      <td>PH</td>\n",
       "    </tr>\n",
       "    <tr>\n",
       "      <th>1718</th>\n",
       "      <td>1719</td>\n",
       "      <td>Zimbabwe</td>\n",
       "      <td>2008</td>\n",
       "      <td>1775</td>\n",
       "      <td>14.3</td>\n",
       "      <td>WHO</td>\n",
       "      <td>PH</td>\n",
       "    </tr>\n",
       "  </tbody>\n",
       "</table>\n",
       "</div>"
      ],
      "text/plain": [
       "      intentional_homicide_id country_name  year  homicide_count  \\\n",
       "1714                     1715        Yemen  2005             945   \n",
       "1715                     1716        Yemen  2004             646   \n",
       "1716                     1717        Yemen  2003             704   \n",
       "1717                     1718       Zambia  2008            4710   \n",
       "1718                     1719     Zimbabwe  2008            1775   \n",
       "\n",
       "      homicide_rate homicide_source homicide_source_type  \n",
       "1714            4.6             NSO                   CJ  \n",
       "1715            3.2             NSO                   CJ  \n",
       "1716            3.6             NSO                   CJ  \n",
       "1717           38.0             WHO                   PH  \n",
       "1718           14.3             WHO                   PH  "
      ]
     },
     "execution_count": 7,
     "metadata": {},
     "output_type": "execute_result"
    }
   ],
   "source": [
    "df.tail()"
   ]
  },
  {
   "cell_type": "code",
   "execution_count": 9,
   "id": "a5431ba8",
   "metadata": {},
   "outputs": [
    {
     "data": {
      "text/plain": [
       "1719"
      ]
     },
     "execution_count": 9,
     "metadata": {},
     "output_type": "execute_result"
    }
   ],
   "source": [
    "len(df)"
   ]
  },
  {
   "cell_type": "code",
   "execution_count": 10,
   "id": "f8c8d1a1",
   "metadata": {},
   "outputs": [],
   "source": [
    "def plot(x, y, ax, title, y_label):\n",
    "    ax.set_title(title)\n",
    "    ax.set_ylabel(y_label)\n",
    "    ax.plot(x, y)\n",
    "    ax.margins(x=0, y=0)"
   ]
  },
  {
   "cell_type": "code",
   "execution_count": 13,
   "id": "31306758",
   "metadata": {},
   "outputs": [
    {
     "name": "stdout",
     "output_type": "stream",
     "text": [
      "      homicide_count\n",
      "year                \n",
      "1995          160465\n",
      "1996          170423\n",
      "1997          169435\n",
      "1998          175065\n",
      "1999          170452\n",
      "2000          175517\n",
      "2001          190863\n",
      "2002          218773\n",
      "2003          213057\n",
      "2004          284206\n",
      "2005          281438\n",
      "2006          280204\n",
      "2007          273245\n",
      "2008          457489\n",
      "2009          277155\n",
      "2010          217658\n",
      "2011           37211\n"
     ]
    },
    {
     "data": {
      "image/png": "[encoded data removed]",
      "text/plain": [
       "<Figure size 640x480 with 1 Axes>"
      ]
     },
     "metadata": {},
     "output_type": "display_data"
    }
   ],
   "source": [
    "group_by_year = df.loc[:,\n",
    "['year','homicide_count']].groupby('year')\n",
    "totals = group_by_year.sum()\n",
    "print(totals)\n",
    "world_x = totals.index\n",
    "world_y = totals.homicide_count\n",
    "fig, ax = plt.subplots()\n",
    "plot(world_x, world_y, ax, 'WHO: reported world homicides from 1995to 2010', 'Homicide Count')"
   ]
  }
 ],
 "metadata": {
  "kernelspec": {
   "display_name": "Python 3 (ipykernel)",
   "language": "python",
   "name": "python3"
  },
  "language_info": {
   "codemirror_mode": {
    "name": "ipython",
    "version": 3
   },
   "file_extension": ".py",
   "mimetype": "text/x-python",
   "name": "python",
   "nbconvert_exporter": "python",
   "pygments_lexer": "ipython3",
   "version": "3.11.5"
  }
 },
 "nbformat": 4,
 "nbformat_minor": 5
}
