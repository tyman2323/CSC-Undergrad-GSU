{
 "cells": [
  {
   "cell_type": "code",
   "execution_count": 1,
   "metadata": {},
   "outputs": [],
   "source": [
    "import pandas as pd \n",
    "import seaborn as sns \n",
    "import matplotlib.pyplot as plt\n"
   ]
  },
  {
   "cell_type": "code",
   "execution_count": 12,
   "metadata": {},
   "outputs": [
    {
     "data": {
      "text/html": [
       "<div>\n",
       "<style scoped>\n",
       "    .dataframe tbody tr th:only-of-type {\n",
       "        vertical-align: middle;\n",
       "    }\n",
       "\n",
       "    .dataframe tbody tr th {\n",
       "        vertical-align: top;\n",
       "    }\n",
       "\n",
       "    .dataframe thead th {\n",
       "        text-align: right;\n",
       "    }\n",
       "</style>\n",
       "<table border=\"1\" class=\"dataframe\">\n",
       "  <thead>\n",
       "    <tr style=\"text-align: right;\">\n",
       "      <th></th>\n",
       "      <th>name</th>\n",
       "      <th>SMILE</th>\n",
       "    </tr>\n",
       "  </thead>\n",
       "  <tbody>\n",
       "    <tr>\n",
       "      <th>0</th>\n",
       "      <td>cabozantinib</td>\n",
       "      <td>COC1=CC2=C(C=CN=C2C=C1OC)OC3=CC=C(C=C3)NC(=O)C...</td>\n",
       "    </tr>\n",
       "    <tr>\n",
       "      <th>1</th>\n",
       "      <td>nakiterpiosin</td>\n",
       "      <td>CC1CC(OC1=O)C(C(C2=C(C3=C(C=C2)C4CC(C56C(OCC(O...</td>\n",
       "    </tr>\n",
       "    <tr>\n",
       "      <th>2</th>\n",
       "      <td>MST-312</td>\n",
       "      <td>C1=CC(=CC(=C1)NC(=O)C2=C(C(=CC=C2)O)O)NC(=O)C3...</td>\n",
       "    </tr>\n",
       "    <tr>\n",
       "      <th>3</th>\n",
       "      <td>GSK4112</td>\n",
       "      <td>CC(C)(C)OC(=O)CN(CC1=CC=C(C=C1)Cl)CC2=CC=C(S2)...</td>\n",
       "    </tr>\n",
       "    <tr>\n",
       "      <th>4</th>\n",
       "      <td>ML258</td>\n",
       "      <td>COC1=CC=C(C=C1)CN2C(=O)C3=C(C4=CC=CC=C4CC35CCC...</td>\n",
       "    </tr>\n",
       "    <tr>\n",
       "      <th>...</th>\n",
       "      <td>...</td>\n",
       "      <td>...</td>\n",
       "    </tr>\n",
       "    <tr>\n",
       "      <th>485</th>\n",
       "      <td>BRD-K02492147</td>\n",
       "      <td>CN1CCN(CC1)C(=O)C[C@@H]1O[C@H](CO)[C@@H](NS(=O...</td>\n",
       "    </tr>\n",
       "    <tr>\n",
       "      <th>486</th>\n",
       "      <td>methotrexate</td>\n",
       "      <td>CN(CC1=CN=C2C(=N1)C(=NC(=N2)N)N)C3=CC=C(C=C3)C...</td>\n",
       "    </tr>\n",
       "    <tr>\n",
       "      <th>487</th>\n",
       "      <td>importazole</td>\n",
       "      <td>CC(C1=CC=CC=C1)NC2=NC(=NC3=CC=CC=C32)N4CCCC4</td>\n",
       "    </tr>\n",
       "    <tr>\n",
       "      <th>488</th>\n",
       "      <td>BRD-K45681478</td>\n",
       "      <td>ClC1=C(NCC=C)C(=O)c2ccccc2C1=O</td>\n",
       "    </tr>\n",
       "    <tr>\n",
       "      <th>489</th>\n",
       "      <td>BMS-536924</td>\n",
       "      <td>CC1=CC(=CC2=C1N=C(N2)C3=C(C=CNC3=O)NCC(C4=CC(=...</td>\n",
       "    </tr>\n",
       "  </tbody>\n",
       "</table>\n",
       "<p>490 rows × 2 columns</p>\n",
       "</div>"
      ],
      "text/plain": [
       "              name                                              SMILE\n",
       "0     cabozantinib  COC1=CC2=C(C=CN=C2C=C1OC)OC3=CC=C(C=C3)NC(=O)C...\n",
       "1    nakiterpiosin  CC1CC(OC1=O)C(C(C2=C(C3=C(C=C2)C4CC(C56C(OCC(O...\n",
       "2          MST-312  C1=CC(=CC(=C1)NC(=O)C2=C(C(=CC=C2)O)O)NC(=O)C3...\n",
       "3          GSK4112  CC(C)(C)OC(=O)CN(CC1=CC=C(C=C1)Cl)CC2=CC=C(S2)...\n",
       "4            ML258  COC1=CC=C(C=C1)CN2C(=O)C3=C(C4=CC=CC=C4CC35CCC...\n",
       "..             ...                                                ...\n",
       "485  BRD-K02492147  CN1CCN(CC1)C(=O)C[C@@H]1O[C@H](CO)[C@@H](NS(=O...\n",
       "486   methotrexate  CN(CC1=CN=C2C(=N1)C(=NC(=N2)N)N)C3=CC=C(C=C3)C...\n",
       "487    importazole       CC(C1=CC=CC=C1)NC2=NC(=NC3=CC=CC=C32)N4CCCC4\n",
       "488  BRD-K45681478                     ClC1=C(NCC=C)C(=O)c2ccccc2C1=O\n",
       "489     BMS-536924  CC1=CC(=CC2=C1N=C(N2)C3=C(C=CNC3=O)NCC(C4=CC(=...\n",
       "\n",
       "[490 rows x 2 columns]"
      ]
     },
     "execution_count": 12,
     "metadata": {},
     "output_type": "execute_result"
    }
   ],
   "source": [
    "df = pd.read_csv(r\"drug_smile.csv\")\n",
    "df"
   ]
  },
  {
   "cell_type": "code",
   "execution_count": 3,
   "metadata": {},
   "outputs": [
    {
     "data": {
      "text/plain": [
       "Index(['name', 'SMILE'], dtype='object')"
      ]
     },
     "execution_count": 3,
     "metadata": {},
     "output_type": "execute_result"
    }
   ],
   "source": [
    "df.columns"
   ]
  },
  {
   "cell_type": "code",
   "execution_count": 4,
   "metadata": {},
   "outputs": [
    {
     "data": {
      "text/html": [
       "<div>\n",
       "<style scoped>\n",
       "    .dataframe tbody tr th:only-of-type {\n",
       "        vertical-align: middle;\n",
       "    }\n",
       "\n",
       "    .dataframe tbody tr th {\n",
       "        vertical-align: top;\n",
       "    }\n",
       "\n",
       "    .dataframe thead th {\n",
       "        text-align: right;\n",
       "    }\n",
       "</style>\n",
       "<table border=\"1\" class=\"dataframe\">\n",
       "  <thead>\n",
       "    <tr style=\"text-align: right;\">\n",
       "      <th></th>\n",
       "      <th>name</th>\n",
       "      <th>SMILE</th>\n",
       "    </tr>\n",
       "  </thead>\n",
       "  <tbody>\n",
       "    <tr>\n",
       "      <th>0</th>\n",
       "      <td>cabozantinib</td>\n",
       "      <td>COC1=CC2=C(C=CN=C2C=C1OC)OC3=CC=C(C=C3)NC(=O)C...</td>\n",
       "    </tr>\n",
       "    <tr>\n",
       "      <th>1</th>\n",
       "      <td>nakiterpiosin</td>\n",
       "      <td>CC1CC(OC1=O)C(C(C2=C(C3=C(C=C2)C4CC(C56C(OCC(O...</td>\n",
       "    </tr>\n",
       "    <tr>\n",
       "      <th>2</th>\n",
       "      <td>MST-312</td>\n",
       "      <td>C1=CC(=CC(=C1)NC(=O)C2=C(C(=CC=C2)O)O)NC(=O)C3...</td>\n",
       "    </tr>\n",
       "    <tr>\n",
       "      <th>3</th>\n",
       "      <td>GSK4112</td>\n",
       "      <td>CC(C)(C)OC(=O)CN(CC1=CC=C(C=C1)Cl)CC2=CC=C(S2)...</td>\n",
       "    </tr>\n",
       "    <tr>\n",
       "      <th>4</th>\n",
       "      <td>ML258</td>\n",
       "      <td>COC1=CC=C(C=C1)CN2C(=O)C3=C(C4=CC=CC=C4CC35CCC...</td>\n",
       "    </tr>\n",
       "    <tr>\n",
       "      <th>5</th>\n",
       "      <td>belinostat</td>\n",
       "      <td>C1=CC=C(C=C1)NS(=O)(=O)C2=CC=CC(=C2)C=CC(=O)NO</td>\n",
       "    </tr>\n",
       "    <tr>\n",
       "      <th>6</th>\n",
       "      <td>GSK525762A</td>\n",
       "      <td>CCNC(=O)CC1C2=NN=C(N2C3=C(C=C(C=C3)OC)C(=N1)C4...</td>\n",
       "    </tr>\n",
       "  </tbody>\n",
       "</table>\n",
       "</div>"
      ],
      "text/plain": [
       "            name                                              SMILE\n",
       "0   cabozantinib  COC1=CC2=C(C=CN=C2C=C1OC)OC3=CC=C(C=C3)NC(=O)C...\n",
       "1  nakiterpiosin  CC1CC(OC1=O)C(C(C2=C(C3=C(C=C2)C4CC(C56C(OCC(O...\n",
       "2        MST-312  C1=CC(=CC(=C1)NC(=O)C2=C(C(=CC=C2)O)O)NC(=O)C3...\n",
       "3        GSK4112  CC(C)(C)OC(=O)CN(CC1=CC=C(C=C1)Cl)CC2=CC=C(S2)...\n",
       "4          ML258  COC1=CC=C(C=C1)CN2C(=O)C3=C(C4=CC=CC=C4CC35CCC...\n",
       "5     belinostat     C1=CC=C(C=C1)NS(=O)(=O)C2=CC=CC(=C2)C=CC(=O)NO\n",
       "6     GSK525762A  CCNC(=O)CC1C2=NN=C(N2C3=C(C=C(C=C3)OC)C(=N1)C4..."
      ]
     },
     "execution_count": 4,
     "metadata": {},
     "output_type": "execute_result"
    }
   ],
   "source": [
    "df.head(7)"
   ]
  },
  {
   "cell_type": "code",
   "execution_count": 5,
   "metadata": {},
   "outputs": [
    {
     "data": {
      "text/plain": [
       "(490, 2)"
      ]
     },
     "execution_count": 5,
     "metadata": {},
     "output_type": "execute_result"
    }
   ],
   "source": [
    "df.shape"
   ]
  },
  {
   "cell_type": "code",
   "execution_count": 6,
   "metadata": {},
   "outputs": [
    {
     "data": {
      "text/plain": [
       "name     0\n",
       "SMILE    0\n",
       "dtype: int64"
      ]
     },
     "execution_count": 6,
     "metadata": {},
     "output_type": "execute_result"
    }
   ],
   "source": [
    "df.isnull().sum()"
   ]
  },
  {
   "cell_type": "code",
   "execution_count": 7,
   "metadata": {},
   "outputs": [
    {
     "data": {
      "text/plain": [
       "<bound method boxplot_frame of               name                                              SMILE\n",
       "0     cabozantinib  COC1=CC2=C(C=CN=C2C=C1OC)OC3=CC=C(C=C3)NC(=O)C...\n",
       "1    nakiterpiosin  CC1CC(OC1=O)C(C(C2=C(C3=C(C=C2)C4CC(C56C(OCC(O...\n",
       "2          MST-312  C1=CC(=CC(=C1)NC(=O)C2=C(C(=CC=C2)O)O)NC(=O)C3...\n",
       "3          GSK4112  CC(C)(C)OC(=O)CN(CC1=CC=C(C=C1)Cl)CC2=CC=C(S2)...\n",
       "4            ML258  COC1=CC=C(C=C1)CN2C(=O)C3=C(C4=CC=CC=C4CC35CCC...\n",
       "..             ...                                                ...\n",
       "485  BRD-K02492147  CN1CCN(CC1)C(=O)C[C@@H]1O[C@H](CO)[C@@H](NS(=O...\n",
       "486   methotrexate  CN(CC1=CN=C2C(=N1)C(=NC(=N2)N)N)C3=CC=C(C=C3)C...\n",
       "487    importazole       CC(C1=CC=CC=C1)NC2=NC(=NC3=CC=CC=C32)N4CCCC4\n",
       "488  BRD-K45681478                     ClC1=C(NCC=C)C(=O)c2ccccc2C1=O\n",
       "489     BMS-536924  CC1=CC(=CC2=C1N=C(N2)C3=C(C=CNC3=O)NCC(C4=CC(=...\n",
       "\n",
       "[490 rows x 2 columns]>"
      ]
     },
     "execution_count": 7,
     "metadata": {},
     "output_type": "execute_result"
    }
   ],
   "source": [
    "df.boxplot"
   ]
  }
 ],
 "metadata": {
  "kernelspec": {
   "display_name": "Python 3 (ipykernel)",
   "language": "python",
   "name": "python3"
  },
  "language_info": {
   "codemirror_mode": {
    "name": "ipython",
    "version": 3
   },
   "file_extension": ".py",
   "mimetype": "text/x-python",
   "name": "python",
   "nbconvert_exporter": "python",
   "pygments_lexer": "ipython3",
   "version": "3.11.5"
  }
 },
 "nbformat": 4,
 "nbformat_minor": 2
}
