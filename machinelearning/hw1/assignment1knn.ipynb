{
 "cells": [
  {
   "cell_type": "code",
   "execution_count": 475,
   "id": "b0746775-b4f0-487c-b2d7-d6de0b80897a",
   "metadata": {
    "scrolled": true
   },
   "outputs": [
    {
     "name": "stdout",
     "output_type": "stream",
     "text": [
      "<class 'pandas.core.frame.DataFrame'>\n",
      "RangeIndex: 29330 entries, 0 to 29329\n",
      "Data columns (total 2 columns):\n",
      " #   Column  Non-Null Count  Dtype  \n",
      "---  ------  --------------  -----  \n",
      " 0   3rd     29330 non-null  float64\n",
      " 1   4th     29330 non-null  float64\n",
      "dtypes: float64(2)\n",
      "memory usage: 458.4 KB\n",
      "None\n",
      "                3rd           4th\n",
      "count  29330.000000  29330.000000\n",
      "mean      46.428606     78.457705\n",
      "std       13.453219     93.352247\n",
      "min        0.000000      0.000000\n",
      "25%       33.000000      6.000000\n",
      "50%       48.000000     20.000000\n",
      "75%       60.000000    140.000000\n",
      "max       72.000000    501.000000\n"
     ]
    }
   ],
   "source": [
    "import collections\n",
    "patientdata = []\n",
    "for filenum in range(1,71):\n",
    "    patientnum = 'Patient Number ' + str(filenum)\n",
    "    if(filenum<10):\n",
    "        with open(\"C:\\\\Users\\\\Ayman\\\\Documents\\\\machinelearning\\\\hw1\\\\diabetes-data\\\\data-0\"+str(filenum), \"r\") as file:\n",
    "            for line in file:\n",
    "                fourth = str(line)\n",
    "                date = fourth[0:fourth.index('\\t')]\n",
    "                fourth = fourth.replace(date,'')#Parses through and cuts each line down until needed clms arrive\n",
    "                fourth = fourth.replace('\\t','',1)\n",
    "                time = fourth[0:fourth.index('\\t')]\n",
    "                fourth = fourth.replace(time,'')\n",
    "                fourth = fourth.replace('\\t','',1)\n",
    "                third = fourth[0:fourth.index('\\t')]\n",
    "                fourth = fourth.replace(third,'')\n",
    "                fourth = fourth.replace('\\t','',1)\n",
    "                fourth = fourth.replace('\\n','')\n",
    "                #patientdata.append([patientnum,date,time,third,fourth])\n",
    "                try:\n",
    "                    patientdata.append([float(third),float(fourth)])\n",
    "                except:\n",
    "                    patientdata.append([float(third),0.0])\n",
    "    else:#if else statement is used to access all the files because patients <10 have a 0 in front\n",
    "        with open(\"C:\\\\Users\\\\Ayman\\\\Documents\\\\machinelearning\\\\hw1\\\\diabetes-data\\\\data-\"+str(filenum), \"r\") as file:\n",
    "            for line in file:\n",
    "                fourth = str(line)\n",
    "                date = fourth[0:fourth.index('\\t')]\n",
    "                fourth = fourth.replace(date,'')\n",
    "                fourth = fourth.replace('\\t','',1)\n",
    "                time = fourth[0:fourth.index('\\t')]\n",
    "                fourth = fourth.replace(time,'')#Parses through and cuts each line down until needed clms arrive\n",
    "                fourth = fourth.replace('\\t','',1)\n",
    "                third = fourth[0:fourth.index('\\t')]\n",
    "                fourth = fourth.replace(third,'')\n",
    "                fourth = fourth.replace('\\t','',1)\n",
    "                fourth = fourth.replace('\\n','')\n",
    "                try:\n",
    "                    patientdata.append([float(third),float(fourth)])\n",
    "                except:\n",
    "                    patientdata.append([float(third),0.0])\n",
    "#takes the array all the infomration was inputted into and converts it into a dataframe df\n",
    "df = pd.DataFrame(patientdata, columns=['3rd','4th'])\n",
    "print(df.info())\n",
    "print(df.describe())"
   ]
  },
  {
   "cell_type": "code",
   "execution_count": 303,
   "id": "875a2162",
   "metadata": {},
   "outputs": [
    {
     "name": "stdout",
     "output_type": "stream",
     "text": [
      "26963\n",
      "3rd:[58. 33. 34. 62. 48. 65. 60. 35. 56. 64. 61. 67. 63. 57. 72. 68. 69. 59.\n",
      " 71. 70. 66.  4. 36.  0.]\n",
      "4th:[100.    9.   13.  119.    7.  123.  216.   10.    2.  211.  257.   11.\n",
      " 129.  239.   14.    4.  340.    5.   67.  206.  288.   77.  228.  259.\n",
      " 256.    8.  109.   96.  200.  128.    0.  192.  263.   81.  179.   88.\n",
      " 185.  104.   86.  163.  147.  207.  305.  151.   85.  133.   63.  183.\n",
      " 282.   91.  229.  121.  251.  135.   87.  255.  343.   97.  136.   82.\n",
      " 110.  236.  175.  108.  300.   76.   65.   43.  130.    6.  182.  117.\n",
      "  75.   69.  201.  244.  125.   92.  122.  162.  270.  297.  148.   79.\n",
      " 246.  165.  149.  232.  312.  115.  180.  295.   15.  220.   64.   94.\n",
      " 273.  240.  217.  187.    3.   46.  127.  313.  102.  134.  103.  120.\n",
      " 227.   16.  105.  287.  113.  142.  173.   70.  153.  141.  146.  202.\n",
      " 111.  212.  171.  107.   35.  156.  106.   55.  204.   74.  233.  194.\n",
      " 159.  164.   72.  139.   68.  262.  126.  152.   66.  269.  184.  219.\n",
      "  84.  132.  172.  112.  168.  114.   58.  265.  205.   80.   51.  193.\n",
      " 306.  303.  197.  181.  101.  198.  267.  154.  166.  222.   59.  225.\n",
      " 169.  177.  145.   61.  271.   89.  188.  191.  226.  158.  178.  189.\n",
      " 203.  195.  261.  118.  160.  208.   54.  237.   62.  247.  144.   90.\n",
      "  78.  218.  234.  157.  248.  335.  199.  209.  140.  249.  309.   95.\n",
      " 285.   98.  138.  143.  293.  294.  284.  170.  283.  253.  272.    1.\n",
      " 174.  155.  116.  304.   47.  131.  176.  344.   12.  124.  325.   57.\n",
      "  99.  296.  150.  223.  286.  388.   18.  274.  365.  275.  137.  376.\n",
      " 250.  221.  393.  361.  330.  317.  196.  224.  167.  279.  264.  292.\n",
      " 281.  252.  235.  326.  307.  364.  254.  276.  238.   53.  245.   71.\n",
      " 161.   56.  302.   49.   52.  190.   93.  346.   36.  243.  260.  311.\n",
      " 315.  356.  210.   40.  215.  339.  241.  266.  186.  278.  301.   73.\n",
      "  42.   50.   39.   44.   22.   83.   41.  291.  298.   38.   60.  214.\n",
      " 213.  319.  341.  230.  280.   31.  331.  258.  242.  360.  231.  320.\n",
      " 316.  328.   17.  349.  329.  268.  431.   26.  384.  352.  336.  289.\n",
      " 342.  350.  324.   45.  387.  322.  400.    6.5 277.  327.    2.5 371.\n",
      "   3.5   4.5 290.    7.5 399.  308.   20.   48.   37.  407.   32.  436.\n",
      " 359.  357.   33.  338.  461.  299.  419.   30.  314.  354.  332.   24.\n",
      "  29.   23.  348.   28.  347.  318.  392.  368.  334.  323.  411.  422.\n",
      " 373.  337.  380.  370.  353.  501.  363.  405.  450.  389.  379.  463.\n",
      " 423.  355.  362.   34.  410.  383.   19.  358.  394.  452.  372.  381.\n",
      " 472.  351.  333.  374.   21.  321.   25.   27.  403.  391.  378.  404.\n",
      " 345.  397.  401.  367.  385.  455.  310.  421.  377.  366.  437.  430.\n",
      " 434.  499.  476.  382.  440.  442.  402.  444.  412.  413.  414.  448.\n",
      " 408.  417.  390.  426.  369.  416.  375.  424.  415.  398.  428.  406.\n",
      " 435.    1.5]\n"
     ]
    }
   ],
   "source": [
    "print(df.duplicated().sum())\n",
    "for col in df.columns:#EDA\n",
    "    print(f\"{col}:{df[col].unique()}\")"
   ]
  },
  {
   "cell_type": "code",
   "execution_count": 246,
   "id": "bb168886",
   "metadata": {
    "scrolled": true
   },
   "outputs": [
    {
     "data": {
      "text/plain": [
       "array([58., 33., 34., 62., 48., 65., 60., 35., 56., 64., 61., 67., 63.,\n",
       "       57., 72., 68., 69., 59., 71., 70., 66.,  4., 36.,  0.])"
      ]
     },
     "execution_count": 246,
     "metadata": {},
     "output_type": "execute_result"
    }
   ],
   "source": [
    "df[\"3rd\"].unique()#EDA for unique vals\n"
   ]
  },
  {
   "cell_type": "code",
   "execution_count": 247,
   "id": "40104f45",
   "metadata": {},
   "outputs": [
    {
     "data": {
      "text/plain": [
       "array([100. ,   9. ,  13. , 119. ,   7. , 123. , 216. ,  10. ,   2. ,\n",
       "       211. , 257. ,  11. , 129. , 239. ,  14. ,   4. , 340. ,   5. ,\n",
       "        67. , 206. , 288. ,  77. , 228. , 259. , 256. ,   8. , 109. ,\n",
       "        96. , 200. , 128. ,   0. , 192. , 263. ,  81. , 179. ,  88. ,\n",
       "       185. , 104. ,  86. , 163. , 147. , 207. , 305. , 151. ,  85. ,\n",
       "       133. ,  63. , 183. , 282. ,  91. , 229. , 121. , 251. , 135. ,\n",
       "        87. , 255. , 343. ,  97. , 136. ,  82. , 110. , 236. , 175. ,\n",
       "       108. , 300. ,  76. ,  65. ,  43. , 130. ,   6. , 182. , 117. ,\n",
       "        75. ,  69. , 201. , 244. , 125. ,  92. , 122. , 162. , 270. ,\n",
       "       297. , 148. ,  79. , 246. , 165. , 149. , 232. , 312. , 115. ,\n",
       "       180. , 295. ,  15. , 220. ,  64. ,  94. , 273. , 240. , 217. ,\n",
       "       187. ,   3. ,  46. , 127. , 313. , 102. , 134. , 103. , 120. ,\n",
       "       227. ,  16. , 105. , 287. , 113. , 142. , 173. ,  70. , 153. ,\n",
       "       141. , 146. , 202. , 111. , 212. , 171. , 107. ,  35. , 156. ,\n",
       "       106. ,  55. , 204. ,  74. , 233. , 194. , 159. , 164. ,  72. ,\n",
       "       139. ,  68. , 262. , 126. , 152. ,  66. , 269. , 184. , 219. ,\n",
       "        84. , 132. , 172. , 112. , 168. , 114. ,  58. , 265. , 205. ,\n",
       "        80. ,  51. , 193. , 306. , 303. , 197. , 181. , 101. , 198. ,\n",
       "       267. , 154. , 166. , 222. ,  59. , 225. , 169. , 177. , 145. ,\n",
       "        61. , 271. ,  89. , 188. , 191. , 226. , 158. , 178. , 189. ,\n",
       "       203. , 195. , 261. , 118. , 160. , 208. ,  54. , 237. ,  62. ,\n",
       "       247. , 144. ,  90. ,  78. , 218. , 234. , 157. , 248. , 335. ,\n",
       "       199. , 209. , 140. , 249. , 309. ,  95. , 285. ,  98. , 138. ,\n",
       "       143. , 293. , 294. , 284. , 170. , 283. , 253. , 272. ,   1. ,\n",
       "       174. , 155. , 116. , 304. ,  47. , 131. , 176. , 344. ,  12. ,\n",
       "       124. , 325. ,  57. ,  99. , 296. , 150. , 223. , 286. , 388. ,\n",
       "        18. , 274. , 365. , 275. , 137. , 376. , 250. , 221. , 393. ,\n",
       "       361. , 330. , 317. , 196. , 224. , 167. , 279. , 264. , 292. ,\n",
       "       281. , 252. , 235. , 326. , 307. , 364. , 254. , 276. , 238. ,\n",
       "        53. , 245. ,  71. , 161. ,  56. , 302. ,  49. ,  52. , 190. ,\n",
       "        93. , 346. ,  36. , 243. , 260. , 311. , 315. , 356. , 210. ,\n",
       "        40. , 215. , 339. , 241. , 266. , 186. , 278. , 301. ,  73. ,\n",
       "        42. ,  50. ,  39. ,  44. ,  22. ,  83. ,  41. , 291. , 298. ,\n",
       "        38. ,  60. , 214. , 213. , 319. , 341. , 230. , 280. ,  31. ,\n",
       "       331. , 258. , 242. , 360. , 231. , 320. , 316. , 328. ,  17. ,\n",
       "       349. , 329. , 268. , 431. ,  26. , 384. , 352. , 336. , 289. ,\n",
       "       342. , 350. , 324. ,  45. , 387. , 322. , 400. ,   6.5, 277. ,\n",
       "       327. ,   2.5, 371. ,   3.5,   4.5, 290. ,   7.5, 399. , 308. ,\n",
       "        20. ,  48. ,  37. , 407. ,  32. , 436. , 359. , 357. ,  33. ,\n",
       "       338. , 461. , 299. , 419. ,  30. , 314. , 354. , 332. ,  24. ,\n",
       "        29. ,  23. , 348. ,  28. , 347. , 318. , 392. , 368. , 334. ,\n",
       "       323. , 411. , 422. , 373. , 337. , 380. , 370. , 353. , 501. ,\n",
       "       363. , 405. , 450. , 389. , 379. , 463. , 423. , 355. , 362. ,\n",
       "        34. , 410. , 383. ,  19. , 358. , 394. , 452. , 372. , 381. ,\n",
       "       472. , 351. , 333. , 374. ,  21. , 321. ,  25. ,  27. , 403. ,\n",
       "       391. , 378. , 404. , 345. , 397. , 401. , 367. , 385. , 455. ,\n",
       "       310. , 421. , 377. , 366. , 437. , 430. , 434. , 499. , 476. ,\n",
       "       382. , 440. , 442. , 402. , 444. , 412. , 413. , 414. , 448. ,\n",
       "       408. , 417. , 390. , 426. , 369. , 416. , 375. , 424. , 415. ,\n",
       "       398. , 428. , 406. , 435. ,   1.5])"
      ]
     },
     "execution_count": 247,
     "metadata": {},
     "output_type": "execute_result"
    }
   ],
   "source": [
    "df[\"4th\"].unique()#EDA for unique vals"
   ]
  },
  {
   "cell_type": "code",
   "execution_count": 248,
   "id": "a005192c",
   "metadata": {},
   "outputs": [
    {
     "data": {
      "text/plain": [
       "3rd\n",
       "33.0    9518\n",
       "34.0    3830\n",
       "58.0    3518\n",
       "62.0    3160\n",
       "60.0    2771\n",
       "48.0    1883\n",
       "35.0    1053\n",
       "57.0     990\n",
       "64.0     904\n",
       "65.0     331\n",
       "67.0     326\n",
       "63.0     219\n",
       "66.0     154\n",
       "70.0     139\n",
       "56.0     119\n",
       "71.0      98\n",
       "72.0      94\n",
       "69.0      68\n",
       "61.0      66\n",
       "68.0      34\n",
       "0.0       33\n",
       "59.0      20\n",
       "4.0        1\n",
       "36.0       1\n",
       "Name: count, dtype: int64"
      ]
     },
     "execution_count": 248,
     "metadata": {},
     "output_type": "execute_result"
    }
   ],
   "source": [
    "df[\"3rd\"].value_counts()"
   ]
  },
  {
   "cell_type": "code",
   "execution_count": 249,
   "id": "896ed8d4",
   "metadata": {
    "scrolled": true
   },
   "outputs": [
    {
     "data": {
      "text/plain": [
       "4th\n",
       "6.0      2043\n",
       "0.0      1408\n",
       "3.0      1200\n",
       "4.0      1174\n",
       "2.0      1070\n",
       "         ... \n",
       "421.0       1\n",
       "472.0       1\n",
       "455.0       1\n",
       "403.0       1\n",
       "444.0       1\n",
       "Name: count, Length: 446, dtype: int64"
      ]
     },
     "execution_count": 249,
     "metadata": {},
     "output_type": "execute_result"
    }
   ],
   "source": [
    "df[\"4th\"].value_counts()"
   ]
  },
  {
   "cell_type": "code",
   "execution_count": 250,
   "id": "3eed70b7",
   "metadata": {},
   "outputs": [
    {
     "data": {
      "text/plain": [
       "3rd    0\n",
       "4th    0\n",
       "dtype: int64"
      ]
     },
     "execution_count": 250,
     "metadata": {},
     "output_type": "execute_result"
    }
   ],
   "source": [
    "df.isnull().sum()"
   ]
  },
  {
   "cell_type": "code",
   "execution_count": 251,
   "id": "4c63773c",
   "metadata": {
    "scrolled": false
   },
   "outputs": [
    {
     "data": {
      "text/html": [
       "<div>\n",
       "<style scoped>\n",
       "    .dataframe tbody tr th:only-of-type {\n",
       "        vertical-align: middle;\n",
       "    }\n",
       "\n",
       "    .dataframe tbody tr th {\n",
       "        vertical-align: top;\n",
       "    }\n",
       "\n",
       "    .dataframe thead th {\n",
       "        text-align: right;\n",
       "    }\n",
       "</style>\n",
       "<table border=\"1\" class=\"dataframe\">\n",
       "  <thead>\n",
       "    <tr style=\"text-align: right;\">\n",
       "      <th></th>\n",
       "      <th>3rd</th>\n",
       "      <th>4th</th>\n",
       "    </tr>\n",
       "  </thead>\n",
       "  <tbody>\n",
       "    <tr>\n",
       "      <th>0</th>\n",
       "      <td>58.0</td>\n",
       "      <td>100.0</td>\n",
       "    </tr>\n",
       "    <tr>\n",
       "      <th>1</th>\n",
       "      <td>33.0</td>\n",
       "      <td>9.0</td>\n",
       "    </tr>\n",
       "    <tr>\n",
       "      <th>2</th>\n",
       "      <td>34.0</td>\n",
       "      <td>13.0</td>\n",
       "    </tr>\n",
       "    <tr>\n",
       "      <th>3</th>\n",
       "      <td>62.0</td>\n",
       "      <td>119.0</td>\n",
       "    </tr>\n",
       "    <tr>\n",
       "      <th>4</th>\n",
       "      <td>33.0</td>\n",
       "      <td>7.0</td>\n",
       "    </tr>\n",
       "    <tr>\n",
       "      <th>...</th>\n",
       "      <td>...</td>\n",
       "      <td>...</td>\n",
       "    </tr>\n",
       "    <tr>\n",
       "      <th>29325</th>\n",
       "      <td>33.0</td>\n",
       "      <td>1.0</td>\n",
       "    </tr>\n",
       "    <tr>\n",
       "      <th>29326</th>\n",
       "      <td>34.0</td>\n",
       "      <td>7.0</td>\n",
       "    </tr>\n",
       "    <tr>\n",
       "      <th>29327</th>\n",
       "      <td>34.0</td>\n",
       "      <td>7.0</td>\n",
       "    </tr>\n",
       "    <tr>\n",
       "      <th>29328</th>\n",
       "      <td>34.0</td>\n",
       "      <td>7.0</td>\n",
       "    </tr>\n",
       "    <tr>\n",
       "      <th>29329</th>\n",
       "      <td>34.0</td>\n",
       "      <td>7.0</td>\n",
       "    </tr>\n",
       "  </tbody>\n",
       "</table>\n",
       "<p>29330 rows × 2 columns</p>\n",
       "</div>"
      ],
      "text/plain": [
       "        3rd    4th\n",
       "0      58.0  100.0\n",
       "1      33.0    9.0\n",
       "2      34.0   13.0\n",
       "3      62.0  119.0\n",
       "4      33.0    7.0\n",
       "...     ...    ...\n",
       "29325  33.0    1.0\n",
       "29326  34.0    7.0\n",
       "29327  34.0    7.0\n",
       "29328  34.0    7.0\n",
       "29329  34.0    7.0\n",
       "\n",
       "[29330 rows x 2 columns]"
      ]
     },
     "execution_count": 251,
     "metadata": {},
     "output_type": "execute_result"
    }
   ],
   "source": [
    "df"
   ]
  },
  {
   "cell_type": "code",
   "execution_count": 382,
   "id": "2d17cb04",
   "metadata": {
    "scrolled": true
   },
   "outputs": [
    {
     "data": {
      "image/png": "[encoded data removed]",
      "text/plain": [
       "<Figure size 1200x600 with 1 Axes>"
      ]
     },
     "metadata": {},
     "output_type": "display_data"
    }
   ],
   "source": [
    "import matplotlib.pyplot as mp\n",
    "import seaborn as sns\n",
    "\n",
    "# Visualizing the distribution of 3rd column\n",
    "mp.figure(figsize=(12, 6))\n",
    "sns.histplot(df['3rd'], bins=30, kde=True)\n",
    "mp.title('Distribution of 3rd Column')\n",
    "mp.xlabel('3rd Column Values')\n",
    "mp.ylabel('Frequency')\n",
    "mp.show()\n"
   ]
  },
  {
   "cell_type": "code",
   "execution_count": 410,
   "id": "33264108",
   "metadata": {},
   "outputs": [],
   "source": [
    "from sklearn.model_selection import train_test_split\n",
    "import numpy as np\n",
    "import pandas as pd\n",
    "import seaborn as sb\n",
    "\n",
    "#uses the library to create testing, validation, and training sets \n",
    "x = df.drop('3rd', axis=1)\n",
    "y = df['3rd']\n",
    "\n",
    "x_temp, x_test, y_temp, y_test = train_test_split(x, y, test_size=0.4, random_state=42)\n",
    "x_train, x_val, y_train, y_val = train_test_split(x_temp, y_temp, test_size=0.75, random_state=42)\n",
    "\n",
    "\n"
   ]
  },
  {
   "cell_type": "code",
   "execution_count": 457,
   "id": "48950853",
   "metadata": {},
   "outputs": [],
   "source": [
    "import numpy as np\n",
    "from collections import Counter\n",
    "\n",
    "def distance(x1, x2):\n",
    "    try:\n",
    "        x1 = np.asarray(x1, dtype=np.float64)\n",
    "    except:\n",
    "        x1 = 0.0\n",
    "    x2 = np.asarray(x2, dtype=np.float64)\n",
    "    distancee = np.sqrt(np.sum((x1 - x2)**2))\n",
    "    return distancee\n",
    "#knn implementation \n",
    "class knn:\n",
    "    def __init__(self, k = 3):\n",
    "        self.k = k\n",
    "    \n",
    "    def fit(self, X, y):\n",
    "        self.Xtrain = X\n",
    "        self.ytrain = y\n",
    "    \n",
    "    def predict(self, X):\n",
    "        prediction = [self.predicthelper(x) for x in X]\n",
    "        return prediction\n",
    "\n",
    "    def predicthelper(self, x):\n",
    "        distances = [distance(x, xtrain) for xtrain in self.Xtrain]\n",
    "        kindex = np.argsort(distances)[:self.k]\n",
    "        #helper is used in each iteration to find closest neighbords\n",
    "        knearest = [self.ytrain.iloc[xx] if xx in self.ytrain.index else None for xx in kindex]\n",
    "\n",
    "        mostcommon = Counter(knearest).most_common()  \n",
    "        return mostcommon[0][0]\n",
    "    "
   ]
  },
  {
   "cell_type": "code",
   "execution_count": 2,
   "id": "7fc36e15",
   "metadata": {
    "scrolled": true
   },
   "outputs": [
    {
     "ename": "NameError",
     "evalue": "name 'knn' is not defined",
     "output_type": "error",
     "traceback": [
      "\u001b[1;31m---------------------------------------------------------------------------\u001b[0m",
      "\u001b[1;31mNameError\u001b[0m                                 Traceback (most recent call last)",
      "Cell \u001b[1;32mIn[2], line 1\u001b[0m\n\u001b[1;32m----> 1\u001b[0m some \u001b[38;5;241m=\u001b[39m knn(k\u001b[38;5;241m=\u001b[39m\u001b[38;5;241m5\u001b[39m)\n\u001b[0;32m      2\u001b[0m some\u001b[38;5;241m.\u001b[39mfit(xtrain,ytrain)\n\u001b[0;32m      3\u001b[0m predictions \u001b[38;5;241m=\u001b[39m some\u001b[38;5;241m.\u001b[39mpredict(xtest)\n",
      "\u001b[1;31mNameError\u001b[0m: name 'knn' is not defined"
     ]
    }
   ],
   "source": [
    "some = knn(k=5)\n",
    "some.fit(xtrain,ytrain)\n",
    "predictions = some.predict(xtest)\n",
    "print(predictions)"
   ]
  },
  {
   "cell_type": "code",
   "execution_count": 472,
   "id": "b1fd0f62",
   "metadata": {
    "scrolled": true
   },
   "outputs": [
    {
     "ename": "ValueError",
     "evalue": "x and y must have same first dimension, but have shapes (5,) and (3,)",
     "output_type": "error",
     "traceback": [
      "\u001b[1;31m---------------------------------------------------------------------------\u001b[0m",
      "\u001b[1;31mValueError\u001b[0m                                Traceback (most recent call last)",
      "Cell \u001b[1;32mIn[472], line 20\u001b[0m\n\u001b[0;32m     16\u001b[0m     ypredict \u001b[38;5;241m=\u001b[39m model\u001b[38;5;241m.\u001b[39mpredict(xval)\n\u001b[0;32m     17\u001b[0m     \u001b[38;5;66;03m#metric = metrics(yval,ypredict)\u001b[39;00m\n\u001b[0;32m     18\u001b[0m     \u001b[38;5;66;03m#accval.append(metric['accuracy'])\u001b[39;00m\n\u001b[1;32m---> 20\u001b[0m plt\u001b[38;5;241m.\u001b[39mplot(k_values, accval, marker\u001b[38;5;241m=\u001b[39m\u001b[38;5;124m'\u001b[39m\u001b[38;5;124mo\u001b[39m\u001b[38;5;124m'\u001b[39m)\n\u001b[0;32m     21\u001b[0m plt\u001b[38;5;241m.\u001b[39mxlabel(\u001b[38;5;124m'\u001b[39m\u001b[38;5;124mk\u001b[39m\u001b[38;5;124m'\u001b[39m)\n\u001b[0;32m     22\u001b[0m plt\u001b[38;5;241m.\u001b[39mylabel(\u001b[38;5;124m'\u001b[39m\u001b[38;5;124mAccuracy\u001b[39m\u001b[38;5;124m'\u001b[39m)\n",
      "File \u001b[1;32m~\\anaconda3\\Lib\\site-packages\\matplotlib\\pyplot.py:2812\u001b[0m, in \u001b[0;36mplot\u001b[1;34m(scalex, scaley, data, *args, **kwargs)\u001b[0m\n\u001b[0;32m   2810\u001b[0m \u001b[38;5;129m@_copy_docstring_and_deprecators\u001b[39m(Axes\u001b[38;5;241m.\u001b[39mplot)\n\u001b[0;32m   2811\u001b[0m \u001b[38;5;28;01mdef\u001b[39;00m \u001b[38;5;21mplot\u001b[39m(\u001b[38;5;241m*\u001b[39margs, scalex\u001b[38;5;241m=\u001b[39m\u001b[38;5;28;01mTrue\u001b[39;00m, scaley\u001b[38;5;241m=\u001b[39m\u001b[38;5;28;01mTrue\u001b[39;00m, data\u001b[38;5;241m=\u001b[39m\u001b[38;5;28;01mNone\u001b[39;00m, \u001b[38;5;241m*\u001b[39m\u001b[38;5;241m*\u001b[39mkwargs):\n\u001b[1;32m-> 2812\u001b[0m     \u001b[38;5;28;01mreturn\u001b[39;00m gca()\u001b[38;5;241m.\u001b[39mplot(\n\u001b[0;32m   2813\u001b[0m         \u001b[38;5;241m*\u001b[39margs, scalex\u001b[38;5;241m=\u001b[39mscalex, scaley\u001b[38;5;241m=\u001b[39mscaley,\n\u001b[0;32m   2814\u001b[0m         \u001b[38;5;241m*\u001b[39m\u001b[38;5;241m*\u001b[39m({\u001b[38;5;124m\"\u001b[39m\u001b[38;5;124mdata\u001b[39m\u001b[38;5;124m\"\u001b[39m: data} \u001b[38;5;28;01mif\u001b[39;00m data \u001b[38;5;129;01mis\u001b[39;00m \u001b[38;5;129;01mnot\u001b[39;00m \u001b[38;5;28;01mNone\u001b[39;00m \u001b[38;5;28;01melse\u001b[39;00m {}), \u001b[38;5;241m*\u001b[39m\u001b[38;5;241m*\u001b[39mkwargs)\n",
      "File \u001b[1;32m~\\anaconda3\\Lib\\site-packages\\matplotlib\\axes\\_axes.py:1688\u001b[0m, in \u001b[0;36mAxes.plot\u001b[1;34m(self, scalex, scaley, data, *args, **kwargs)\u001b[0m\n\u001b[0;32m   1445\u001b[0m \u001b[38;5;250m\u001b[39m\u001b[38;5;124;03m\"\"\"\u001b[39;00m\n\u001b[0;32m   1446\u001b[0m \u001b[38;5;124;03mPlot y versus x as lines and/or markers.\u001b[39;00m\n\u001b[0;32m   1447\u001b[0m \n\u001b[1;32m   (...)\u001b[0m\n\u001b[0;32m   1685\u001b[0m \u001b[38;5;124;03m(``'green'``) or hex strings (``'#008000'``).\u001b[39;00m\n\u001b[0;32m   1686\u001b[0m \u001b[38;5;124;03m\"\"\"\u001b[39;00m\n\u001b[0;32m   1687\u001b[0m kwargs \u001b[38;5;241m=\u001b[39m cbook\u001b[38;5;241m.\u001b[39mnormalize_kwargs(kwargs, mlines\u001b[38;5;241m.\u001b[39mLine2D)\n\u001b[1;32m-> 1688\u001b[0m lines \u001b[38;5;241m=\u001b[39m [\u001b[38;5;241m*\u001b[39m\u001b[38;5;28mself\u001b[39m\u001b[38;5;241m.\u001b[39m_get_lines(\u001b[38;5;241m*\u001b[39margs, data\u001b[38;5;241m=\u001b[39mdata, \u001b[38;5;241m*\u001b[39m\u001b[38;5;241m*\u001b[39mkwargs)]\n\u001b[0;32m   1689\u001b[0m \u001b[38;5;28;01mfor\u001b[39;00m line \u001b[38;5;129;01min\u001b[39;00m lines:\n\u001b[0;32m   1690\u001b[0m     \u001b[38;5;28mself\u001b[39m\u001b[38;5;241m.\u001b[39madd_line(line)\n",
      "File \u001b[1;32m~\\anaconda3\\Lib\\site-packages\\matplotlib\\axes\\_base.py:311\u001b[0m, in \u001b[0;36m_process_plot_var_args.__call__\u001b[1;34m(self, data, *args, **kwargs)\u001b[0m\n\u001b[0;32m    309\u001b[0m     this \u001b[38;5;241m+\u001b[39m\u001b[38;5;241m=\u001b[39m args[\u001b[38;5;241m0\u001b[39m],\n\u001b[0;32m    310\u001b[0m     args \u001b[38;5;241m=\u001b[39m args[\u001b[38;5;241m1\u001b[39m:]\n\u001b[1;32m--> 311\u001b[0m \u001b[38;5;28;01myield from\u001b[39;00m \u001b[38;5;28mself\u001b[39m\u001b[38;5;241m.\u001b[39m_plot_args(\n\u001b[0;32m    312\u001b[0m     this, kwargs, ambiguous_fmt_datakey\u001b[38;5;241m=\u001b[39mambiguous_fmt_datakey)\n",
      "File \u001b[1;32m~\\anaconda3\\Lib\\site-packages\\matplotlib\\axes\\_base.py:504\u001b[0m, in \u001b[0;36m_process_plot_var_args._plot_args\u001b[1;34m(self, tup, kwargs, return_kwargs, ambiguous_fmt_datakey)\u001b[0m\n\u001b[0;32m    501\u001b[0m     \u001b[38;5;28mself\u001b[39m\u001b[38;5;241m.\u001b[39maxes\u001b[38;5;241m.\u001b[39myaxis\u001b[38;5;241m.\u001b[39mupdate_units(y)\n\u001b[0;32m    503\u001b[0m \u001b[38;5;28;01mif\u001b[39;00m x\u001b[38;5;241m.\u001b[39mshape[\u001b[38;5;241m0\u001b[39m] \u001b[38;5;241m!=\u001b[39m y\u001b[38;5;241m.\u001b[39mshape[\u001b[38;5;241m0\u001b[39m]:\n\u001b[1;32m--> 504\u001b[0m     \u001b[38;5;28;01mraise\u001b[39;00m \u001b[38;5;167;01mValueError\u001b[39;00m(\u001b[38;5;124mf\u001b[39m\u001b[38;5;124m\"\u001b[39m\u001b[38;5;124mx and y must have same first dimension, but \u001b[39m\u001b[38;5;124m\"\u001b[39m\n\u001b[0;32m    505\u001b[0m                      \u001b[38;5;124mf\u001b[39m\u001b[38;5;124m\"\u001b[39m\u001b[38;5;124mhave shapes \u001b[39m\u001b[38;5;132;01m{\u001b[39;00mx\u001b[38;5;241m.\u001b[39mshape\u001b[38;5;132;01m}\u001b[39;00m\u001b[38;5;124m and \u001b[39m\u001b[38;5;132;01m{\u001b[39;00my\u001b[38;5;241m.\u001b[39mshape\u001b[38;5;132;01m}\u001b[39;00m\u001b[38;5;124m\"\u001b[39m)\n\u001b[0;32m    506\u001b[0m \u001b[38;5;28;01mif\u001b[39;00m x\u001b[38;5;241m.\u001b[39mndim \u001b[38;5;241m>\u001b[39m \u001b[38;5;241m2\u001b[39m \u001b[38;5;129;01mor\u001b[39;00m y\u001b[38;5;241m.\u001b[39mndim \u001b[38;5;241m>\u001b[39m \u001b[38;5;241m2\u001b[39m:\n\u001b[0;32m    507\u001b[0m     \u001b[38;5;28;01mraise\u001b[39;00m \u001b[38;5;167;01mValueError\u001b[39;00m(\u001b[38;5;124mf\u001b[39m\u001b[38;5;124m\"\u001b[39m\u001b[38;5;124mx and y can be no greater than 2D, but have \u001b[39m\u001b[38;5;124m\"\u001b[39m\n\u001b[0;32m    508\u001b[0m                      \u001b[38;5;124mf\u001b[39m\u001b[38;5;124m\"\u001b[39m\u001b[38;5;124mshapes \u001b[39m\u001b[38;5;132;01m{\u001b[39;00mx\u001b[38;5;241m.\u001b[39mshape\u001b[38;5;132;01m}\u001b[39;00m\u001b[38;5;124m and \u001b[39m\u001b[38;5;132;01m{\u001b[39;00my\u001b[38;5;241m.\u001b[39mshape\u001b[38;5;132;01m}\u001b[39;00m\u001b[38;5;124m\"\u001b[39m)\n",
      "\u001b[1;31mValueError\u001b[0m: x and y must have same first dimension, but have shapes (5,) and (3,)"
     ]
    },
    {
     "data": {
      "image/png": "[encoded data removed]",
      "text/plain": [
       "<Figure size 640x480 with 1 Axes>"
      ]
     },
     "metadata": {},
     "output_type": "display_data"
    }
   ],
   "source": [
    "from sklearn.metrics import accuracy_score, recall_score, f1_score, roc_auc_score\n",
    "kval = [1,2,3,4,5]\n",
    "accval = []\n",
    "def metrics(true, pred):\n",
    "    accuracy = accuracy_score(true.values,pred)\n",
    "    recall = recall_score(true,pred,average = 'weighted')\n",
    "    f1weight = f1_score(true,pred,average = 'weighted')\n",
    "    f1macro = f1_score(true,pred,average = 'macro')\n",
    "    rocauc = roc_auc_score(true,pred)\n",
    "    metrics ={'accuracy' : accuracy, 'recall' : recall, 'weighted f1' : f1weight, 'macro f1' : f1macro, 'rocauc' : rocauc}\n",
    "    return metrics\n",
    "\n",
    "for k in kval:\n",
    "    model = knn(k = k)\n",
    "    model.fit(xtrain,ytrain)\n",
    "    ypredict = model.predict(xval)\n",
    "    metric = metrics(yval,ypredict)\n",
    "    accval.append(metric['accuracy'])\n",
    "#attempted to plot results here\n",
    "plt.plot(k_values, accval, marker='o')\n",
    "plt.xlabel('k')\n",
    "plt.ylabel('Accuracy')\n",
    "plt.title('Accuracy vs k')\n",
    "plt.show()"
   ]
  }
 ],
 "metadata": {
  "kernelspec": {
   "display_name": "Python 3 (ipykernel)",
   "language": "python",
   "name": "python3"
  },
  "language_info": {
   "codemirror_mode": {
    "name": "ipython",
    "version": 3
   },
   "file_extension": ".py",
   "mimetype": "text/x-python",
   "name": "python",
   "nbconvert_exporter": "python",
   "pygments_lexer": "ipython3",
   "version": "3.11.5"
  }
 },
 "nbformat": 4,
 "nbformat_minor": 5
}
